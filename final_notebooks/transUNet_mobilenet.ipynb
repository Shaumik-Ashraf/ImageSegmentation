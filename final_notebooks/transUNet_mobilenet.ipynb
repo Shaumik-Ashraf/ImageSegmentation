{
  "nbformat": 4,
  "nbformat_minor": 0,
  "metadata": {
    "kernelspec": {
      "display_name": "Python 3",
      "language": "python",
      "name": "python3"
    },
    "language_info": {
      "codemirror_mode": {
        "name": "ipython",
        "version": 3
      },
      "file_extension": ".py",
      "mimetype": "text/x-python",
      "name": "python",
      "nbconvert_exporter": "python",
      "pygments_lexer": "ipython3",
      "version": "3.8.8"
    },
    "papermill": {
      "duration": 2469.802439,
      "end_time": "2021-04-17T13:17:59.947477",
      "environment_variables": {},
      "exception": null,
      "input_path": "__notebook__.ipynb",
      "output_path": "__notebook__.ipynb",
      "parameters": {},
      "start_time": "2021-04-17T12:36:50.145038",
      "version": "2.1.0"
    },
    "colab": {
      "name": "transUNet_mobilenet.ipynb",
      "provenance": [],
      "collapsed_sections": [
        "yJ7GX-qH-0-z",
        "Len_k-4I-0_A",
        "q7FUQzQc-0_B"
      ],
      "toc_visible": true
    },
    "accelerator": "GPU"
  },
  "cells": [
    {
      "cell_type": "markdown",
      "metadata": {
        "papermill": {
          "duration": 0.023261,
          "end_time": "2021-04-17T12:36:54.038841",
          "exception": false,
          "start_time": "2021-04-17T12:36:54.015580",
          "status": "completed"
        },
        "tags": [],
        "id": "-WI2x-Si-09w"
      },
      "source": [
        "<center><h2 style='color:red'>HuBMAP | Pytorch | ViT for Segmentation [Train]<hr>Revised for DL Project</h2></center>"
      ]
    },
    {
      "cell_type": "markdown",
      "metadata": {
        "papermill": {
          "duration": 0.021845,
          "end_time": "2021-04-17T12:36:54.082558",
          "exception": false,
          "start_time": "2021-04-17T12:36:54.060713",
          "status": "completed"
        },
        "tags": [],
        "id": "iBFISmXr-095"
      },
      "source": [
        "Source: https://www.kaggle.com/elcaiseri/hubmap-pytorch-vit-segmentation-starter-train\n",
        "\n",
        "This Code depends on: <br>\n",
        "- The lossses are from **https://github.com/JunMa11/SegLoss**\n",
        "- The base codes are from here: **https://www.kaggle.com/vineeth1999/hubmap-pytorch-efficientunet-offline**\n",
        "\n",
        "**Update:**\n",
        "- It's the official code. https://github.com/Beckschen/TransUNet\n",
        "\n",
        "\n",
        "- It's the paper of the TransUnet. https://arxiv.org/pdf/2102.04306v1.pdf (Thanks for @luciusk)\n"
      ]
    },
    {
      "cell_type": "markdown",
      "metadata": {
        "papermill": {
          "duration": 0.021268,
          "end_time": "2021-04-17T12:36:54.125340",
          "exception": false,
          "start_time": "2021-04-17T12:36:54.104072",
          "status": "completed"
        },
        "tags": [],
        "id": "4xkALwS7-0-c"
      },
      "source": [
        "## Introduction <br>\n",
        "Implementation of **self attention mechanisms** for computer vision in PyTorch with einsum and einops. Focused on **segmentation**  self-attention modules.\n",
        "\n",
        "### Note: This is a baseline code"
      ]
    },
    {
      "cell_type": "markdown",
      "metadata": {
        "papermill": {
          "duration": 0.021237,
          "end_time": "2021-04-17T12:36:54.168093",
          "exception": false,
          "start_time": "2021-04-17T12:36:54.146856",
          "status": "completed"
        },
        "tags": [],
        "id": "4cLBbhk0-0-e"
      },
      "source": [
        "**Update**\n",
        "- This code starts from vision 10\n",
        "- **V15**: - Use DiceBCELoss - increase ViT blocks - \n",
        "- **V16**: - Apply Official code.\n",
        "          - Add more options for loss function."
      ]
    },
    {
      "cell_type": "markdown",
      "metadata": {
        "papermill": {
          "duration": 0.021123,
          "end_time": "2021-04-17T12:36:54.210544",
          "exception": false,
          "start_time": "2021-04-17T12:36:54.189421",
          "status": "completed"
        },
        "tags": [],
        "id": "tzNAYaQB-0-l"
      },
      "source": [
        "## Imports"
      ]
    },
    {
      "cell_type": "code",
      "metadata": {
        "id": "WDVRoIp5iiLH"
      },
      "source": [
        "REDUCED_SET = False"
      ],
      "execution_count": 1,
      "outputs": []
    },
    {
      "cell_type": "code",
      "metadata": {
        "id": "T2sz-TB_ijmx",
        "colab": {
          "base_uri": "https://localhost:8080/"
        },
        "outputId": "4db8e03f-2e07-4f40-dcfb-f00b13efb18f"
      },
      "source": [
        "from google.colab import drive\n",
        "drive.mount('/content/drive')"
      ],
      "execution_count": 2,
      "outputs": [
        {
          "output_type": "stream",
          "text": [
            "Mounted at /content/drive\n"
          ],
          "name": "stdout"
        }
      ]
    },
    {
      "cell_type": "code",
      "metadata": {
        "id": "V__fQQ-IilZE"
      },
      "source": [
        "!unzip \"/content/drive/MyDrive/DLProjectData/hubmap_train_256.zip\" -d \"/content\""
      ],
      "execution_count": null,
      "outputs": []
    },
    {
      "cell_type": "code",
      "metadata": {
        "id": "uioOg4kJinlA"
      },
      "source": [
        "!pip install albumentations==0.4.6\n",
        "!pip install segmentation-models-pytorch"
      ],
      "execution_count": null,
      "outputs": []
    },
    {
      "cell_type": "code",
      "metadata": {
        "id": "0K0PLOWN_ZQE"
      },
      "source": [
        "# !git clone https://github.com/Beckschen/TransUNet.git\n",
        "# import sys\n",
        "# sys.path.append('/content/TransUNet/')"
      ],
      "execution_count": 5,
      "outputs": []
    },
    {
      "cell_type": "code",
      "metadata": {
        "_kg_hide-output": true,
        "execution": {
          "iopub.execute_input": "2021-04-17T12:37:03.047787Z",
          "iopub.status.busy": "2021-04-17T12:37:03.047075Z",
          "iopub.status.idle": "2021-04-17T12:37:23.642101Z",
          "shell.execute_reply": "2021-04-17T12:37:23.641045Z"
        },
        "papermill": {
          "duration": 20.665875,
          "end_time": "2021-04-17T12:37:23.642214",
          "exception": false,
          "start_time": "2021-04-17T12:37:02.976339",
          "status": "completed"
        },
        "tags": [],
        "id": "siYiT1s--0-4",
        "colab": {
          "base_uri": "https://localhost:8080/"
        },
        "outputId": "c7b3023d-7ed4-40b9-8a00-621490cd1cef"
      },
      "source": [
        "!wget https://storage.googleapis.com/vit_models/imagenet21k/R50%2BViT-B_16.npz\n",
        "#! pip install self-attention-cv\n",
        "!pip install einops\n",
        "!pip install ml_collections\n",
        "# tu_path = '../input/transunet/TransUNet-main'\n",
        "# sys.path.append(tu_path)"
      ],
      "execution_count": 6,
      "outputs": [
        {
          "output_type": "stream",
          "text": [
            "--2021-05-21 16:59:27--  https://storage.googleapis.com/vit_models/imagenet21k/R50%2BViT-B_16.npz\n",
            "Resolving storage.googleapis.com (storage.googleapis.com)... 173.194.214.128, 173.194.215.128, 173.194.216.128, ...\n",
            "Connecting to storage.googleapis.com (storage.googleapis.com)|173.194.214.128|:443... connected.\n",
            "HTTP request sent, awaiting response... 200 OK\n",
            "Length: 461217452 (440M) [application/octet-stream]\n",
            "Saving to: ‘R50+ViT-B_16.npz’\n",
            "\n",
            "R50+ViT-B_16.npz    100%[===================>] 439.85M  69.4MB/s    in 6.9s    \n",
            "\n",
            "2021-05-21 16:59:35 (63.4 MB/s) - ‘R50+ViT-B_16.npz’ saved [461217452/461217452]\n",
            "\n",
            "Collecting einops\n",
            "  Downloading https://files.pythonhosted.org/packages/5d/a0/9935e030634bf60ecd572c775f64ace82ceddf2f504a5fd3902438f07090/einops-0.3.0-py2.py3-none-any.whl\n",
            "Installing collected packages: einops\n",
            "Successfully installed einops-0.3.0\n",
            "Collecting ml_collections\n",
            "\u001b[?25l  Downloading https://files.pythonhosted.org/packages/03/d4/9ab1a8c2aebf78c348404c464733974dc4e7088174d6272ed09c2fa5a8fa/ml_collections-0.1.0-py3-none-any.whl (88kB)\n",
            "\u001b[K     |████████████████████████████████| 92kB 3.0MB/s \n",
            "\u001b[?25hRequirement already satisfied: six in /usr/local/lib/python3.7/dist-packages (from ml_collections) (1.15.0)\n",
            "Requirement already satisfied: PyYAML in /usr/local/lib/python3.7/dist-packages (from ml_collections) (3.13)\n",
            "Requirement already satisfied: absl-py in /usr/local/lib/python3.7/dist-packages (from ml_collections) (0.12.0)\n",
            "Requirement already satisfied: contextlib2 in /usr/local/lib/python3.7/dist-packages (from ml_collections) (0.5.5)\n",
            "Installing collected packages: ml-collections\n",
            "Successfully installed ml-collections-0.1.0\n"
          ],
          "name": "stdout"
        }
      ]
    },
    {
      "cell_type": "code",
      "metadata": {
        "execution": {
          "iopub.execute_input": "2021-04-17T12:36:54.259219Z",
          "iopub.status.busy": "2021-04-17T12:36:54.258431Z",
          "iopub.status.idle": "2021-04-17T12:36:54.261256Z",
          "shell.execute_reply": "2021-04-17T12:36:54.260803Z"
        },
        "papermill": {
          "duration": 0.029466,
          "end_time": "2021-04-17T12:36:54.261360",
          "exception": false,
          "start_time": "2021-04-17T12:36:54.231894",
          "status": "completed"
        },
        "tags": [],
        "id": "umB8nUP9-0-n"
      },
      "source": [
        "# import warnings\n",
        "# warnings.filterwarnings(\"ignore\")"
      ],
      "execution_count": 7,
      "outputs": []
    },
    {
      "cell_type": "code",
      "metadata": {
        "execution": {
          "iopub.execute_input": "2021-04-17T12:36:54.312355Z",
          "iopub.status.busy": "2021-04-17T12:36:54.311690Z",
          "iopub.status.idle": "2021-04-17T12:36:57.355238Z",
          "shell.execute_reply": "2021-04-17T12:36:57.354241Z"
        },
        "papermill": {
          "duration": 3.072491,
          "end_time": "2021-04-17T12:36:57.355369",
          "exception": false,
          "start_time": "2021-04-17T12:36:54.282878",
          "status": "completed"
        },
        "tags": [],
        "id": "P2isaPdp-0-q"
      },
      "source": [
        "from sklearn.model_selection import GroupKFold\n",
        "\n",
        "import torch\n",
        "import torchvision\n",
        "from torch import nn\n",
        "from torch.optim import Adam\n",
        "from torchvision import transforms\n",
        "from torch.nn import functional as F\n",
        "from torch.utils.data import Dataset,DataLoader\n",
        "from torch.utils.data.sampler import SequentialSampler, RandomSampler\n",
        "#from torch.optim.lr_scheduler import CosineAnnealingLR, ReduceLROnPlateau, CosineAnnealingWarmRestarts\n",
        "\n",
        "import cv2\n",
        "\n",
        "import numpy as np\n",
        "import pandas as pd\n",
        "import matplotlib.pyplot as plt\n",
        "\n",
        "\n",
        "from scipy.ndimage.interpolation import zoom\n",
        "\n",
        "import albumentations as A\n",
        "from albumentations.pytorch import ToTensorV2\n",
        "\n",
        "import os\n",
        "import sys\n",
        "import time\n",
        "import random"
      ],
      "execution_count": 45,
      "outputs": []
    },
    {
      "cell_type": "markdown",
      "metadata": {
        "papermill": {
          "duration": 0.02159,
          "end_time": "2021-04-17T12:36:57.399132",
          "exception": false,
          "start_time": "2021-04-17T12:36:57.377542",
          "status": "completed"
        },
        "tags": [],
        "id": "IjEvUS_k-0-q"
      },
      "source": [
        "## Hyperparameters"
      ]
    },
    {
      "cell_type": "code",
      "metadata": {
        "execution": {
          "iopub.execute_input": "2021-04-17T12:36:57.453518Z",
          "iopub.status.busy": "2021-04-17T12:36:57.451745Z",
          "iopub.status.idle": "2021-04-17T12:36:57.454135Z",
          "shell.execute_reply": "2021-04-17T12:36:57.454556Z"
        },
        "papermill": {
          "duration": 0.033736,
          "end_time": "2021-04-17T12:36:57.454662",
          "exception": false,
          "start_time": "2021-04-17T12:36:57.420926",
          "status": "completed"
        },
        "tags": [],
        "id": "y9VL-mXn-0-q"
      },
      "source": [
        "class CFG:\n",
        "    data = 256 #512\n",
        "    debug=False\n",
        "    apex=False\n",
        "    print_freq=100\n",
        "    num_workers=0\n",
        "    img_size=256 # appropriate input size for encoder \n",
        "    scheduler='CosineAnnealingWarmRestarts' # ['ReduceLROnPlateau', 'CosineAnnealingLR', 'CosineAnnealingWarmRestarts']\n",
        "    epoch=35 # Change epochs\n",
        "    criterion= 'DiceBCELoss' #'DiceBCELoss' # ['DiceLoss', 'Hausdorff', 'Lovasz']\n",
        "    base_model='Unet' # ['Unet']\n",
        "    encoder = 'vit' # ['attention','efficientnet-b5'] or other encoders from smp\n",
        "    lr=5e-4\n",
        "    min_lr=1e-6\n",
        "    batch_size=16\n",
        "    weight_decay=1e-6\n",
        "    gradient_accumulation_steps=1\n",
        "    seed=42\n",
        "    n_fold=5\n",
        "    trn_fold= 0 #[0, 1, 2, 3, 4]\n",
        "    train=True\n",
        "    inference=False\n",
        "    optimizer = 'Adam'\n",
        "    T_0=10\n",
        "    # N=5 \n",
        "    # M=9\n",
        "    T_max=10\n",
        "    #factor=0.2\n",
        "    #patience=4\n",
        "    #eps=1e-6\n",
        "    smoothing=1e-8\n",
        "    in_channels=3\n",
        "    vit_blocks=4 #[8, 12]\n",
        "    vit_linear=512 #1024\n",
        "    classes=1\n",
        "    MODEL_NAME = 'R50-ViT-B_16'\n",
        "\n",
        "\n",
        "main_dir = '/content'\n",
        "train_dir = '/content/train'\n",
        "masks_dir = '/content/masks'"
      ],
      "execution_count": 46,
      "outputs": []
    },
    {
      "cell_type": "code",
      "metadata": {
        "execution": {
          "iopub.execute_input": "2021-04-17T12:36:57.504420Z",
          "iopub.status.busy": "2021-04-17T12:36:57.503821Z",
          "iopub.status.idle": "2021-04-17T12:36:57.509414Z",
          "shell.execute_reply": "2021-04-17T12:36:57.508938Z"
        },
        "papermill": {
          "duration": 0.033191,
          "end_time": "2021-04-17T12:36:57.509506",
          "exception": false,
          "start_time": "2021-04-17T12:36:57.476315",
          "status": "completed"
        },
        "tags": [],
        "id": "-E8f-CKO-0-r"
      },
      "source": [
        "# from @Iafoss comment\n",
        "def seed_torch(seed):\n",
        "    random.seed(seed)\n",
        "    os.environ['PYTHONHASHSEED'] = str(seed)\n",
        "    np.random.seed(seed)\n",
        "    torch.manual_seed(seed)\n",
        "    \n",
        "    torch.cuda.manual_seed(seed)\n",
        "    torch.backends.cudnn.deterministic = True\n",
        "    #the following line gives ~10% speedup\n",
        "    #but may lead to some stochasticity in the results \n",
        "    torch.backends.cudnn.benchmark = True # from @Iafoss comment\n",
        "\n",
        "seed_torch(seed=CFG.seed)"
      ],
      "execution_count": 47,
      "outputs": []
    },
    {
      "cell_type": "markdown",
      "metadata": {
        "papermill": {
          "duration": 0.021738,
          "end_time": "2021-04-17T12:36:57.553298",
          "exception": false,
          "start_time": "2021-04-17T12:36:57.531560",
          "status": "completed"
        },
        "tags": [],
        "id": "tkBGygq0-0-s"
      },
      "source": [
        "## Dataset"
      ]
    },
    {
      "cell_type": "code",
      "metadata": {
        "execution": {
          "iopub.execute_input": "2021-04-17T12:36:57.604029Z",
          "iopub.status.busy": "2021-04-17T12:36:57.603485Z",
          "iopub.status.idle": "2021-04-17T12:36:58.009213Z",
          "shell.execute_reply": "2021-04-17T12:36:58.008294Z"
        },
        "papermill": {
          "duration": 0.434151,
          "end_time": "2021-04-17T12:36:58.009327",
          "exception": false,
          "start_time": "2021-04-17T12:36:57.575176",
          "status": "completed"
        },
        "tags": [],
        "id": "VrUUV2Db-0-t"
      },
      "source": [
        "# train_df = pd.read_csv('/content/train.csv')\n",
        "# train_df.head()"
      ],
      "execution_count": 48,
      "outputs": []
    },
    {
      "cell_type": "code",
      "metadata": {
        "execution": {
          "iopub.execute_input": "2021-04-17T12:36:58.081557Z",
          "iopub.status.busy": "2021-04-17T12:36:58.079702Z",
          "iopub.status.idle": "2021-04-17T12:36:58.082129Z",
          "shell.execute_reply": "2021-04-17T12:36:58.082555Z"
        },
        "papermill": {
          "duration": 0.050284,
          "end_time": "2021-04-17T12:36:58.082677",
          "exception": false,
          "start_time": "2021-04-17T12:36:58.032393",
          "status": "completed"
        },
        "tags": [],
        "id": "5t9jNrio-0-v"
      },
      "source": [
        "# def get_transform(mode='base'):\n",
        "#     if mode == 'base':\n",
        "#         base_transform = A.Compose([\n",
        "#             A.Resize(CFG.img_size, CFG.img_size, p=1.0),\n",
        "#             A.HorizontalFlip(),\n",
        "#             A.VerticalFlip(),\n",
        "#             A.RandomRotate90(),\n",
        "#             A.ShiftScaleRotate(shift_limit=0.0625, scale_limit=0.2, rotate_limit=20, p=0.4, \n",
        "#                              border_mode=cv2.BORDER_REFLECT),\n",
        "#             A.OneOf([\n",
        "#                 A.OpticalDistortion(p=0.4),\n",
        "#                 A.GridDistortion(p=.1),\n",
        "#                 A.IAAPiecewiseAffine(p=0.4),\n",
        "#             ], p=0.3),\n",
        "#             A.OneOf([\n",
        "#                 A.HueSaturationValue(10,15,10),\n",
        "#                 A.CLAHE(clip_limit=3),\n",
        "#                 A.RandomBrightnessContrast(),            \n",
        "#             ], p=0.4),\n",
        "#             ToTensorV2()\n",
        "#         ], p=1.0)\n",
        "#         return base_transform\n",
        "    \n",
        "#     elif mode == 'rand':\n",
        "#         rand_transform = A.Compose([\n",
        "#                 RandAugment(CFG.N, CFG.M),\n",
        "#                 A.Transpose(p=0.5),\n",
        "#                 A.VerticalFlip(p=0.5),\n",
        "#                 A.HorizontalFlip(p=0.5),\n",
        "#                 A.ShiftScaleRotate(shift_limit=0.1, scale_limit=0.1, rotate_limit=15, border_mode=0, p=0.85),\n",
        "#                 A.Resize(CFG.img_size, CFG.img_size, p=1.0),\n",
        "#                 A.Normalize(),\n",
        "#                 ToTensorV2()\n",
        "#             ])\n",
        "#         return rand_transform\n",
        "    \n",
        "#     elif mode == 'strong':\n",
        "#         strong_transform = A.Compose([\n",
        "#                 A.Transpose(p=0.5),\n",
        "#                 A.VerticalFlip(p=0.5),\n",
        "#                 A.HorizontalFlip(p=0.5),\n",
        "#                 A.ElasticTransform(alpha=120, sigma=120 * 0.05, alpha_affine=120 * 0.03, p=0.5),\n",
        "#                 A.OneOf([\n",
        "#                         A.RandomGamma(),\n",
        "#                         A.GaussNoise()           \n",
        "#                     ], p=0.5),\n",
        "#                 A.OneOf([\n",
        "#                         A.OpticalDistortion(p=0.4),\n",
        "#                         A.GridDistortion(p=0.2),\n",
        "#                         A.IAAPiecewiseAffine(p=0.4),\n",
        "#                     ], p=0.5),\n",
        "#                 A.OneOf([\n",
        "#                         A.HueSaturationValue(10,15,10),\n",
        "#                         A.CLAHE(clip_limit=4),\n",
        "#                         A.RandomBrightnessContrast(),            \n",
        "#                     ], p=0.5),\n",
        "\n",
        "#                 A.ShiftScaleRotate(shift_limit=0.1, scale_limit=0.1, rotate_limit=15, border_mode=0, p=0.85),\n",
        "#                 A.Resize(CFG.img_size, CFG.img_size, p=1.0),\n",
        "#                 ToTensorV2()\n",
        "#             ])\n",
        "#         return strong_transform\n",
        "    \n",
        "#     elif mode == 'weak':\n",
        "#         weak_transform = A.Compose([\n",
        "#                 A.Resize(CFG.img_size, CFG.img_size, p=0.5),\n",
        "#                 A.HorizontalFlip(),\n",
        "#                 A.VerticalFlip(),\n",
        "#                 A.RandomRotate90(),\n",
        "#                 A.ShiftScaleRotate(shift_limit=0.0625, scale_limit=0.2, rotate_limit=15, p=0.4, \n",
        "#                                  border_mode=cv2.BORDER_REFLECT),\n",
        "#                 ToTensorV2()\n",
        "#             ], p=1.0)\n",
        "#         return weak_transform\n",
        "    \n",
        "#     elif mode == 'valid':\n",
        "#         val_transform = A.Compose([\n",
        "#                 A.Resize(CFG.img_size, CFG.img_size, p=1.0),\n",
        "#                 ToTensorV2()\n",
        "#             ], p=1.0)\n",
        "#         return val_transform\n",
        "    \n",
        "#     else:\n",
        "#         print('Unknown mode.')\n",
        "    \n",
        "\n",
        "# mean = np.array([0.65459856,0.48386562,0.69428385])\n",
        "# std = np.array([0.15167958,0.23584107,0.13146145])"
      ],
      "execution_count": 49,
      "outputs": []
    },
    {
      "cell_type": "code",
      "metadata": {
        "id": "zO8EYB-FnCIh"
      },
      "source": [
        "def get_train_transform():\n",
        "    return A.Compose([\n",
        "        A.HorizontalFlip(),\n",
        "            A.OneOf([\n",
        "                A.RandomContrast(),\n",
        "                A.RandomGamma(),\n",
        "                A.RandomBrightness(),\n",
        "                ], p=0.3),\n",
        "            A.OneOf([\n",
        "                A.ElasticTransform(alpha=120, sigma=120 * 0.05, alpha_affine=120 * 0.03),\n",
        "                A.GridDistortion(),\n",
        "                A.OpticalDistortion(distort_limit=2, shift_limit=0.5),\n",
        "                ], p=0.3),\n",
        "            A.ShiftScaleRotate(p=0.2),\n",
        "            A.Resize(256,256,always_apply=True),\n",
        "    ],p=1.)\n",
        "\n",
        "def get_val_transform():\n",
        "    return A.Compose([\n",
        "        A.Resize(256,256,always_apply=True),\n",
        "    ],p=1.)"
      ],
      "execution_count": 50,
      "outputs": []
    },
    {
      "cell_type": "code",
      "metadata": {
        "execution": {
          "iopub.execute_input": "2021-04-17T12:36:58.139408Z",
          "iopub.status.busy": "2021-04-17T12:36:58.138682Z",
          "iopub.status.idle": "2021-04-17T12:36:58.141123Z",
          "shell.execute_reply": "2021-04-17T12:36:58.141590Z"
        },
        "papermill": {
          "duration": 0.036269,
          "end_time": "2021-04-17T12:36:58.141701",
          "exception": false,
          "start_time": "2021-04-17T12:36:58.105432",
          "status": "completed"
        },
        "tags": [],
        "id": "Srt-jO23-0-z"
      },
      "source": [
        "# class HuBMAPDataset(Dataset):\n",
        "#     def __init__(self, main_dir, df, train=True, transform=None):\n",
        "        \n",
        "#         self.ids = df.id.values\n",
        "#         self.fnames = [fname for fname in os.listdir(train_dir) if fname.split('_')[0] in self.ids]\n",
        "\n",
        "#         self.main_dir = main_dir\n",
        "#         self.df = df\n",
        "#         self.train = train\n",
        "#         self.transform = transform\n",
        "        \n",
        "#     def __len__(self):\n",
        "#         return len(self.fnames)\n",
        "    \n",
        "#     def __getitem__(self, idx):\n",
        "#         fname = self.fnames[idx]\n",
        "        \n",
        "#         img = cv2.cvtColor(cv2.imread(os.path.join(main_dir, 'train', fname)), cv2.COLOR_BGR2RGB)\n",
        "#         mask = cv2.imread(os.path.join(main_dir, 'masks', fname),cv2.IMREAD_GRAYSCALE)\n",
        "        \n",
        "#         if self.transform is not None:\n",
        "#             aug = self.transform(image=img, mask=mask)            \n",
        "#             img, mask = aug['image'], aug['mask']\n",
        "                    \n",
        "#         img = img.type('torch.FloatTensor')\n",
        "#         img = img/255\n",
        "#         mask = mask.type('torch.FloatTensor')\n",
        "\n",
        "#         return img, mask\n",
        "\n",
        "\n",
        "class HuBMAPDataset(Dataset):\n",
        "    def __init__(self, ids, phase):\n",
        "        self.ids = ids\n",
        "        if phase=='train':\n",
        "            self.transform = get_train_transform()\n",
        "        else:\n",
        "            self.transform = get_val_transform()\n",
        "        \n",
        "    def __getitem__(self, idx):\n",
        "        name = self.ids[idx]\n",
        "        img = cv2.imread(os.path.join(train_dir, name)).astype(\"float32\")[:,:,::-1] # changed path\n",
        "        img /= 255.\n",
        "        mask = cv2.imread(os.path.join(masks_dir, name))[:,:,0:1] # changed path\n",
        "\n",
        "        transformed = self.transform(image=img, mask=mask)\n",
        "        img = transformed['image']\n",
        "        mask = transformed['mask']\n",
        "        img = img.transpose(2,0,1).astype('float32')\n",
        "        mask = mask.transpose(2,0,1).astype('float32')\n",
        "        return img, mask\n",
        "\n",
        "    def __len__(self):\n",
        "        return len(self.ids)\n",
        "          "
      ],
      "execution_count": 51,
      "outputs": []
    },
    {
      "cell_type": "markdown",
      "metadata": {
        "papermill": {
          "duration": 0.022949,
          "end_time": "2021-04-17T12:36:58.187517",
          "exception": false,
          "start_time": "2021-04-17T12:36:58.164568",
          "status": "completed"
        },
        "tags": [],
        "id": "yJ7GX-qH-0-z"
      },
      "source": [
        "## Visualize augmented data"
      ]
    },
    {
      "cell_type": "code",
      "metadata": {
        "execution": {
          "iopub.execute_input": "2021-04-17T12:36:58.240031Z",
          "iopub.status.busy": "2021-04-17T12:36:58.239346Z",
          "iopub.status.idle": "2021-04-17T12:36:58.242139Z",
          "shell.execute_reply": "2021-04-17T12:36:58.241723Z"
        },
        "papermill": {
          "duration": 0.031868,
          "end_time": "2021-04-17T12:36:58.242225",
          "exception": false,
          "start_time": "2021-04-17T12:36:58.210357",
          "status": "completed"
        },
        "tags": [],
        "id": "HD1lvRIP-0-0"
      },
      "source": [
        "# def vis_aug_data(dataset, length=6):\n",
        "#     plt.figure(figsize=(15,10))\n",
        "#     N = length // 2\n",
        "#     for i in range(length):\n",
        "#         image, mask = train_dataset[i]\n",
        "#         plt.subplot(3,4,2*i+1)\n",
        "#         plt.imshow(np.transpose((image), (1,2,0)))\n",
        "#         plt.axis('off')\n",
        "#         plt.subplot(3,4,2*i+2)\n",
        "#         plt.imshow(mask)\n",
        "#         plt.axis('off')"
      ],
      "execution_count": 52,
      "outputs": []
    },
    {
      "cell_type": "code",
      "metadata": {
        "execution": {
          "iopub.execute_input": "2021-04-17T12:36:58.291973Z",
          "iopub.status.busy": "2021-04-17T12:36:58.291469Z",
          "iopub.status.idle": "2021-04-17T12:36:59.365726Z",
          "shell.execute_reply": "2021-04-17T12:36:59.366141Z"
        },
        "papermill": {
          "duration": 1.10128,
          "end_time": "2021-04-17T12:36:59.366254",
          "exception": false,
          "start_time": "2021-04-17T12:36:58.264974",
          "status": "completed"
        },
        "tags": [],
        "id": "dx2RgR6J-0-0"
      },
      "source": [
        "# # base augmentation\n",
        "# train_dataset = HuBMAPDataset(main_dir, train_df, train=True, transform=get_transform('base'))\n",
        "\n",
        "# vis_aug_data(train_dataset, 6)"
      ],
      "execution_count": 53,
      "outputs": []
    },
    {
      "cell_type": "code",
      "metadata": {
        "execution": {
          "iopub.execute_input": "2021-04-17T12:36:59.444786Z",
          "iopub.status.busy": "2021-04-17T12:36:59.443998Z",
          "iopub.status.idle": "2021-04-17T12:37:00.356320Z",
          "shell.execute_reply": "2021-04-17T12:37:00.356959Z"
        },
        "papermill": {
          "duration": 0.94898,
          "end_time": "2021-04-17T12:37:00.357135",
          "exception": false,
          "start_time": "2021-04-17T12:36:59.408155",
          "status": "completed"
        },
        "tags": [],
        "id": "GOEDnTXu-0-0"
      },
      "source": [
        "# # weak augmentation\n",
        "# train_dataset = HuBMAPDataset(main_dir, train_df, train=True, transform=get_transform('weak'))\n",
        "\n",
        "# vis_aug_data(train_dataset, 6)"
      ],
      "execution_count": 54,
      "outputs": []
    },
    {
      "cell_type": "code",
      "metadata": {
        "execution": {
          "iopub.execute_input": "2021-04-17T12:37:00.562913Z",
          "iopub.status.busy": "2021-04-17T12:37:00.562150Z",
          "iopub.status.idle": "2021-04-17T12:37:01.681518Z",
          "shell.execute_reply": "2021-04-17T12:37:01.682015Z"
        },
        "papermill": {
          "duration": 1.244038,
          "end_time": "2021-04-17T12:37:01.682144",
          "exception": false,
          "start_time": "2021-04-17T12:37:00.438106",
          "status": "completed"
        },
        "tags": [],
        "id": "KayIG9oY-0-1"
      },
      "source": [
        "# # strong augmentation\n",
        "# train_dataset = HuBMAPDataset(main_dir, train_df, train=True, transform=get_transform('strong'))\n",
        "\n",
        "# vis_aug_data(train_dataset, 6)"
      ],
      "execution_count": 55,
      "outputs": []
    },
    {
      "cell_type": "code",
      "metadata": {
        "execution": {
          "iopub.execute_input": "2021-04-17T12:37:01.789560Z",
          "iopub.status.busy": "2021-04-17T12:37:01.788905Z",
          "iopub.status.idle": "2021-04-17T12:37:02.531736Z",
          "shell.execute_reply": "2021-04-17T12:37:02.532215Z"
        },
        "papermill": {
          "duration": 0.798615,
          "end_time": "2021-04-17T12:37:02.532371",
          "exception": false,
          "start_time": "2021-04-17T12:37:01.733756",
          "status": "completed"
        },
        "tags": [],
        "id": "SLtGYQfN-0-2"
      },
      "source": [
        "# # valid augmentation\n",
        "# train_dataset = HuBMAPDataset(main_dir, train_df, train=True, transform=get_transform('valid'))\n",
        "\n",
        "# vis_aug_data(train_dataset, 6)"
      ],
      "execution_count": 56,
      "outputs": []
    },
    {
      "cell_type": "markdown",
      "metadata": {
        "papermill": {
          "duration": 0.05879,
          "end_time": "2021-04-17T12:37:02.650811",
          "exception": false,
          "start_time": "2021-04-17T12:37:02.592021",
          "status": "completed"
        },
        "tags": [],
        "id": "YLMCweVh-0-3"
      },
      "source": [
        "## DataLoader"
      ]
    },
    {
      "cell_type": "code",
      "metadata": {
        "execution": {
          "iopub.execute_input": "2021-04-17T12:37:02.777139Z",
          "iopub.status.busy": "2021-04-17T12:37:02.776153Z",
          "iopub.status.idle": "2021-04-17T12:37:02.793015Z",
          "shell.execute_reply": "2021-04-17T12:37:02.793473Z"
        },
        "papermill": {
          "duration": 0.082939,
          "end_time": "2021-04-17T12:37:02.793591",
          "exception": false,
          "start_time": "2021-04-17T12:37:02.710652",
          "status": "completed"
        },
        "tags": [],
        "id": "jnYkYir3-0-3"
      },
      "source": [
        "# if CFG.data==512:\n",
        "#     directory_list = os.listdir('../input/hubmap-512x512/train')\n",
        "# elif CFG.data==256:\n",
        "#     directory_list = os.listdir('../input/hubmap-256x256/train')\n",
        "\n",
        "# directory_list = [fnames.split('_')[0] for fnames in directory_list]\n",
        "# dir_df = pd.DataFrame(directory_list, columns=['id'])\n",
        "# dir_df\n",
        "\n",
        "\n",
        "directory_list = os.listdir(train_dir) # changed path\n",
        "dir_df = pd.DataFrame(directory_list, columns=['Image_Paths'])"
      ],
      "execution_count": 57,
      "outputs": []
    },
    {
      "cell_type": "markdown",
      "metadata": {
        "papermill": {
          "duration": 0.0608,
          "end_time": "2021-04-17T12:37:02.915138",
          "exception": false,
          "start_time": "2021-04-17T12:37:02.854338",
          "status": "completed"
        },
        "tags": [],
        "id": "oPdT_DI6-0-4"
      },
      "source": [
        "## Model"
      ]
    },
    {
      "cell_type": "code",
      "metadata": {
        "id": "uWzPCjTeYHLm"
      },
      "source": [
        "!rm -rf henry/"
      ],
      "execution_count": 58,
      "outputs": []
    },
    {
      "cell_type": "code",
      "metadata": {
        "id": "kd_cMQ3gM3Go",
        "colab": {
          "base_uri": "https://localhost:8080/"
        },
        "outputId": "76646ea8-9e30-427d-f7a4-3af2b1c83008"
      },
      "source": [
        "#!git clone https://github.com/henryw30/TransUNet.git henry\n",
        "#!git clone -b mobilenet --single-branch https://github.com/henryw30/TransUNet.git henry\n",
        "!git clone --branch mobilenet https://github.com/henryw30/TransUNet.git henry\n",
        "sys.path.append('/content/henry/')"
      ],
      "execution_count": 59,
      "outputs": [
        {
          "output_type": "stream",
          "text": [
            "Cloning into 'henry'...\n",
            "remote: Enumerating objects: 253, done.\u001b[K\n",
            "remote: Counting objects: 100% (253/253), done.\u001b[K\n",
            "remote: Compressing objects: 100% (177/177), done.\u001b[K\n",
            "remote: Total 253 (delta 168), reused 139 (delta 75), pack-reused 0\u001b[K\n",
            "Receiving objects: 100% (253/253), 53.15 KiB | 5.31 MiB/s, done.\n",
            "Resolving deltas: 100% (168/168), done.\n"
          ],
          "name": "stdout"
        }
      ]
    },
    {
      "cell_type": "code",
      "metadata": {
        "id": "MC7QJlD4rmEC"
      },
      "source": [
        "#!cd henry/ && git checkout print_main"
      ],
      "execution_count": 60,
      "outputs": []
    },
    {
      "cell_type": "code",
      "metadata": {
        "execution": {
          "iopub.execute_input": "2021-04-17T12:37:23.795828Z",
          "iopub.status.busy": "2021-04-17T12:37:23.795005Z",
          "iopub.status.idle": "2021-04-17T12:37:23.872242Z",
          "shell.execute_reply": "2021-04-17T12:37:23.872742Z"
        },
        "papermill": {
          "duration": 0.157071,
          "end_time": "2021-04-17T12:37:23.872873",
          "exception": false,
          "start_time": "2021-04-17T12:37:23.715802",
          "status": "completed"
        },
        "tags": [],
        "id": "Rod2Fiv9-0-4",
        "colab": {
          "base_uri": "https://localhost:8080/"
        },
        "outputId": "082ed627-f4a1-4ba7-a314-39615baaadb0"
      },
      "source": [
        "from networks.vit_seg_modeling import VisionTransformer as ViT_seg\n",
        "from networks.vit_seg_modeling import CONFIGS as CONFIGS_ViT_seg\n",
        "\n",
        "config_vit = CONFIGS_ViT_seg[CFG.MODEL_NAME]\n",
        "config_vit.n_classes = 1\n",
        "config_vit.n_skip = 3\n",
        "config_vit.pretrained_path = './R50+ViT-B_16.npz'\n",
        "config_vit.transformer.dropout_rate = 0.2\n",
        "config_vit.transformer.mlp_dim = 3072\n",
        "config_vit.transformer.num_heads = 4\n",
        "config_vit.transformer.num_layers = 8\n",
        "\n",
        "config_vit"
      ],
      "execution_count": 61,
      "outputs": [
        {
          "output_type": "execute_result",
          "data": {
            "text/plain": [
              "activation: softmax\n",
              "classifier: seg\n",
              "decoder_channels: !!python/tuple\n",
              "- 256\n",
              "- 128\n",
              "- 64\n",
              "- 16\n",
              "hidden_size: 768\n",
              "n_classes: 1\n",
              "n_skip: 3\n",
              "patch_size: 16\n",
              "patches:\n",
              "  grid: !!python/tuple\n",
              "  - 16\n",
              "  - 16\n",
              "  size: !!python/tuple\n",
              "  - 16\n",
              "  - 16\n",
              "pretrained_path: ./R50+ViT-B_16.npz\n",
              "representation_size: null\n",
              "resnet:\n",
              "  num_layers: !!python/tuple\n",
              "  - 3\n",
              "  - 4\n",
              "  - 9\n",
              "  width_factor: 1\n",
              "resnet_pretrained_path: null\n",
              "skip_channels:\n",
              "- 32\n",
              "- 24\n",
              "- 16\n",
              "- 0\n",
              "transformer:\n",
              "  attention_dropout_rate: 0.0\n",
              "  dropout_rate: 0.2\n",
              "  mlp_dim: 3072\n",
              "  num_heads: 4\n",
              "  num_layers: 8"
            ]
          },
          "metadata": {
            "tags": []
          },
          "execution_count": 61
        }
      ]
    },
    {
      "cell_type": "code",
      "metadata": {
        "execution": {
          "iopub.execute_input": "2021-04-17T12:37:24.026149Z",
          "iopub.status.busy": "2021-04-17T12:37:24.025362Z",
          "iopub.status.idle": "2021-04-17T12:37:24.028195Z",
          "shell.execute_reply": "2021-04-17T12:37:24.027770Z"
        },
        "papermill": {
          "duration": 0.083972,
          "end_time": "2021-04-17T12:37:24.028303",
          "exception": false,
          "start_time": "2021-04-17T12:37:23.944331",
          "status": "completed"
        },
        "tags": [],
        "id": "LI-1gJXB-0-7"
      },
      "source": [
        "class ViTHuBMAP(nn.Module):\n",
        "    def __init__(self, configs=config_vit):\n",
        "        super(ViTHuBMAP, self).__init__()\n",
        "        \n",
        "        self.model = ViT_seg(configs, img_size=CFG.img_size, num_classes=CFG.classes)\n",
        "        #self.model.load_from(weights=np.load(configs.pretrained_path))\n",
        "\n",
        "    \n",
        "    def forward(self, x):\n",
        "        img_segs = self.model(x)\n",
        "        \n",
        "        return img_segs"
      ],
      "execution_count": 62,
      "outputs": []
    },
    {
      "cell_type": "markdown",
      "metadata": {
        "papermill": {
          "duration": 0.071579,
          "end_time": "2021-04-17T12:37:24.170902",
          "exception": false,
          "start_time": "2021-04-17T12:37:24.099323",
          "status": "completed"
        },
        "tags": [],
        "id": "YQnSc2jP-0-8"
      },
      "source": [
        "## Loss Function"
      ]
    },
    {
      "cell_type": "code",
      "metadata": {
        "colab": {
          "base_uri": "https://localhost:8080/"
        },
        "id": "ife8JEqAKWbL",
        "outputId": "b265a319-58c2-4265-a68c-07c5fb07aeb9"
      },
      "source": [
        "!git clone https://github.com/JunMa11/SegLoss.git"
      ],
      "execution_count": 63,
      "outputs": [
        {
          "output_type": "stream",
          "text": [
            "fatal: destination path 'SegLoss' already exists and is not an empty directory.\n"
          ],
          "name": "stdout"
        }
      ]
    },
    {
      "cell_type": "code",
      "metadata": {
        "execution": {
          "iopub.execute_input": "2021-04-17T12:37:24.319781Z",
          "iopub.status.busy": "2021-04-17T12:37:24.319221Z",
          "iopub.status.idle": "2021-04-17T12:37:24.367177Z",
          "shell.execute_reply": "2021-04-17T12:37:24.366732Z"
        },
        "papermill": {
          "duration": 0.124753,
          "end_time": "2021-04-17T12:37:24.367291",
          "exception": false,
          "start_time": "2021-04-17T12:37:24.242538",
          "status": "completed"
        },
        "tags": [],
        "id": "WnC_QSG--0-8"
      },
      "source": [
        "sys.path.append('/content/SegLoss')\n",
        "# from losses_pytorch.hausdorff import HausdorffDTLoss\n",
        "from losses_pytorch.lovasz_loss import LovaszSoftmax\n",
        "# from losses_pytorch.focal_loss import FocalLoss"
      ],
      "execution_count": 64,
      "outputs": []
    },
    {
      "cell_type": "code",
      "metadata": {
        "execution": {
          "iopub.execute_input": "2021-04-17T12:37:24.529082Z",
          "iopub.status.busy": "2021-04-17T12:37:24.528222Z",
          "iopub.status.idle": "2021-04-17T12:37:24.531045Z",
          "shell.execute_reply": "2021-04-17T12:37:24.530599Z"
        },
        "papermill": {
          "duration": 0.092157,
          "end_time": "2021-04-17T12:37:24.531136",
          "exception": false,
          "start_time": "2021-04-17T12:37:24.438979",
          "status": "completed"
        },
        "tags": [],
        "id": "r3LP1xDx-0-9"
      },
      "source": [
        "class DiceLoss(nn.Module):\n",
        "    def __init__(self, weight=None, size_average=True):\n",
        "        super(DiceLoss, self).__init__()\n",
        "\n",
        "    def forward(self, inputs, targets, smooth=CFG.smoothing):\n",
        "        \n",
        "        #comment out if your model contains a sigmoid or equivalent activation layer\n",
        "        inputs = F.sigmoid(inputs)       \n",
        "        \n",
        "        #flatten label and prediction tensors\n",
        "        inputs = inputs.view(-1)\n",
        "        targets = targets.view(-1)\n",
        "        \n",
        "        intersection = (inputs * targets).sum()                            \n",
        "        dice = (2.*intersection + smooth)/(inputs.sum() + targets.sum() + smooth)  \n",
        "        \n",
        "        return dice\n",
        "\n",
        "def getDiceScore(y_hat, y, smooth=CFG.smoothing):\n",
        "    assert(y_hat.shape == y.shape)\n",
        "\n",
        "    #comment out if your model contains a sigmoid or equivalent activation layer\n",
        "    y_hat = torch.sigmoid(y_hat)\n",
        "\n",
        "    #flatten label and prediction tensors\n",
        "    y_hat = y_hat.view(-1)\n",
        "    y_hat = (y_hat >= 0.5).float()\n",
        "    y = y.view(-1)\n",
        "\n",
        "    intersection = (y_hat * y).sum()                            \n",
        "    dice = (2.*intersection + smooth)/(y_hat.sum() + y.sum() + smooth)  \n",
        "\n",
        "    return dice.item()   \n",
        "    \n",
        "    \n",
        "class DiceBCELoss(nn.Module):\n",
        "    # Formula Given above.\n",
        "    def __init__(self, weight=None, size_average=True):\n",
        "        super(DiceBCELoss, self).__init__()\n",
        "\n",
        "    def forward(self, inputs, targets, smooth=CFG.smoothing):\n",
        "        \n",
        "        #comment out if your model contains a sigmoid or equivalent activation layer\n",
        "        inputs = F.sigmoid(inputs)    \n",
        "\n",
        "        #flatten label and prediction tensors\n",
        "        inputs = inputs.view(-1)\n",
        "        targets = targets.view(-1)\n",
        "        \n",
        "        intersection = (inputs * targets).mean()                            \n",
        "        dice_loss = 1 - (2.*intersection + smooth)/(inputs.mean() + targets.mean() + smooth)  \n",
        "        BCE = F.binary_cross_entropy(inputs, targets, reduction='mean')\n",
        "        Dice_BCE = BCE + dice_loss\n",
        "        \n",
        "        return Dice_BCE.mean()\n",
        "    \n",
        "    \n",
        "# class Hausdorff_loss(nn.Module):\n",
        "#     def __init__(self):\n",
        "#         super(Hausdorff_loss, self).__init__()\n",
        "        \n",
        "#     def forward(self, inputs, targets):\n",
        "#         return HausdorffDTLoss()(inputs, targets)\n",
        "    \n",
        "# class FocalDLoss(nn.Module):\n",
        "#     def __init__(self):\n",
        "#         super(FocalDLoss, self).__init__()\n",
        "        \n",
        "#     def forward(self, inputs, targets):\n",
        "#         return FocalLoss()(inputs, targets)\n",
        "    \n",
        "    \n",
        "class Lovasz_loss(nn.Module):\n",
        "    def __init__(self):\n",
        "        super(Lovasz_loss, self).__init__()\n",
        "        \n",
        "    def forward(self, inputs, targets):\n",
        "        return LovaszSoftmax()(inputs, targets)"
      ],
      "execution_count": 65,
      "outputs": []
    },
    {
      "cell_type": "code",
      "metadata": {
        "execution": {
          "iopub.execute_input": "2021-04-17T12:37:24.681650Z",
          "iopub.status.busy": "2021-04-17T12:37:24.680900Z",
          "iopub.status.idle": "2021-04-17T12:37:24.683897Z",
          "shell.execute_reply": "2021-04-17T12:37:24.683470Z"
        },
        "papermill": {
          "duration": 0.08182,
          "end_time": "2021-04-17T12:37:24.683990",
          "exception": false,
          "start_time": "2021-04-17T12:37:24.602170",
          "status": "completed"
        },
        "tags": [],
        "id": "E8zl-7gu-0-9"
      },
      "source": [
        "if CFG.criterion == 'DiceBCELoss':\n",
        "    criterion = DiceBCELoss()\n",
        "elif CFG.criterion == 'DiceLoss':\n",
        "    criterion = DiceLoss()\n",
        "elif CFG.criterion == 'Lovasz':\n",
        "    criterion = Lovasz_loss()\n",
        "else:\n",
        "    raise Exception(\"SLDKFJSDF\")\n",
        "# elif CFG.criterion == 'FocalLoss':\n",
        "#     criterion = FocalDLoss()\n",
        "# elif CFG.criterion == 'Hausdorff':\n",
        "#     criterion = Hausdorff_loss()"
      ],
      "execution_count": 66,
      "outputs": []
    },
    {
      "cell_type": "markdown",
      "metadata": {
        "papermill": {
          "duration": 0.072099,
          "end_time": "2021-04-17T12:37:24.827151",
          "exception": false,
          "start_time": "2021-04-17T12:37:24.755052",
          "status": "completed"
        },
        "tags": [],
        "id": "YW54kg-u-0-9"
      },
      "source": [
        "## Train Function"
      ]
    },
    {
      "cell_type": "code",
      "metadata": {
        "execution": {
          "iopub.execute_input": "2021-04-17T12:37:24.979640Z",
          "iopub.status.busy": "2021-04-17T12:37:24.978805Z",
          "iopub.status.idle": "2021-04-17T12:37:24.981899Z",
          "shell.execute_reply": "2021-04-17T12:37:24.981468Z"
        },
        "papermill": {
          "duration": 0.083154,
          "end_time": "2021-04-17T12:37:24.981997",
          "exception": false,
          "start_time": "2021-04-17T12:37:24.898843",
          "status": "completed"
        },
        "tags": [],
        "id": "Gmm0Y6-4-0--"
      },
      "source": [
        "def HuBMAPLoss(images, targets, model, device, loss_func=criterion):\n",
        "    model.to(device)\n",
        "    images = images.to(device)\n",
        "    targets = targets.to(device)\n",
        "    outputs = model(images)\n",
        "    loss_func = loss_func\n",
        "    loss = loss_func(outputs, targets)\n",
        "    return loss, outputs"
      ],
      "execution_count": 67,
      "outputs": []
    },
    {
      "cell_type": "code",
      "metadata": {
        "id": "QGzUEbDOu3mj"
      },
      "source": [
        "def timer(msg, reset = False):\n",
        "    now = time.time();\n",
        "    if not hasattr(timer, \"start\") or reset:\n",
        "        timer.start = now;\n",
        "        diff = 0;\n",
        "    else:\n",
        "        diff = now - timer.start;\n",
        "        \n",
        "    print(f\"{msg} | {diff} seconds\");"
      ],
      "execution_count": 68,
      "outputs": []
    },
    {
      "cell_type": "code",
      "metadata": {
        "id": "_Db1ziimug-Z"
      },
      "source": [
        "train_loss_per_epoch = []\n",
        "train_score_per_epoch = []\n",
        "\n",
        "valid_loss_per_epoch = []\n",
        "valid_score_per_epoch = []\n",
        "\n",
        "# 1st entry is the train loss, 2nd entry is the valid loss, 3rd entry is the train dice score, 4th entry is the valid dice score\n",
        "fold_dict = {}"
      ],
      "execution_count": 69,
      "outputs": []
    },
    {
      "cell_type": "code",
      "metadata": {
        "execution": {
          "iopub.execute_input": "2021-04-17T12:37:25.145698Z",
          "iopub.status.busy": "2021-04-17T12:37:25.144705Z",
          "iopub.status.idle": "2021-04-17T12:37:25.147423Z",
          "shell.execute_reply": "2021-04-17T12:37:25.146939Z"
        },
        "papermill": {
          "duration": 0.092885,
          "end_time": "2021-04-17T12:37:25.147526",
          "exception": false,
          "start_time": "2021-04-17T12:37:25.054641",
          "status": "completed"
        },
        "tags": [],
        "id": "70yc0KoB-0--"
      },
      "source": [
        "def train_one_epoch(epoch, model, device, optimizer, scheduler, trainloader):\n",
        "    model.train()\n",
        "    t = time.time()\n",
        "    total_loss = 0\n",
        "    dice_epoch = []\n",
        "    for step, (images, targets) in enumerate(trainloader):\n",
        "        # run model and get loss\n",
        "        loss, outputs = HuBMAPLoss(images, targets, model, device)\n",
        "        loss.backward()\n",
        "        if ((step+1)%4==0 or (step+1)==len(trainloader)):\n",
        "            optimizer.step()\n",
        "            #scheduler.step()\n",
        "            optimizer.zero_grad()\n",
        "\n",
        "        loss = loss.detach().item()\n",
        "        total_loss += loss\n",
        "\n",
        "        # get dice score\n",
        "        dice_batch = getDiceScore(outputs, targets.to(device))\n",
        "        dice_epoch.append(dice_batch)\n",
        "        \n",
        "        # if ((step+1)%10==0 or (step+1)==len(trainloader)):\n",
        "        #     print(\n",
        "        #             f'epoch {epoch} train step {step+1}/{len(trainloader)}, ' + \\\n",
        "        #             f'loss: {total_loss/len(trainloader):.4f}, ' + \\\n",
        "        #             f'time: {(time.time() - t):.4f}', end= '\\r' if (step + 1) != len(trainloader) else '\\n'\n",
        "        #         )\n",
        "\n",
        "    # print stuff\n",
        "    print(\n",
        "            f'epoch {epoch}, ' + \\\n",
        "            f'loss: {total_loss/len(trainloader):.4f}, ' + \\\n",
        "            f'time: {(time.time() - t):.4f}, '  + \\\n",
        "            f'dice: {np.mean(dice_epoch)}', end='\\n'\n",
        "        )\n",
        "    \n",
        "    return total_loss/len(trainloader), np.mean(dice_epoch)\n",
        "            \n",
        "        \n",
        "def valid_one_epoch(epoch, model, device, optimizer, scheduler, validloader):\n",
        "    model.eval()\n",
        "    t = time.time()\n",
        "    total_loss = 0\n",
        "    dice_epoch = []\n",
        "    for step, (images, targets) in enumerate(validloader):\n",
        "        # run model and get loss\n",
        "        loss, outputs = HuBMAPLoss(images, targets, model, device)\n",
        "        loss = loss.detach().item()\n",
        "        total_loss += loss\n",
        "        \n",
        "        # if ((step+1)%4==0 or (step+1)==len(validloader)):\n",
        "        #     scheduler.step(total_loss/len(validloader))\n",
        "\n",
        "        # get dice score\n",
        "        dice_batch = getDiceScore(outputs, targets.to(device))\n",
        "        dice_epoch.append(dice_batch)\n",
        "        \n",
        "        # if ((step+1)%10==0 or (step+1)==len(validloader)):\n",
        "        #     print(\n",
        "        #             f'**epoch {epoch} trainz step {step+1}/{len(validloader)}, ' + \\\n",
        "        #             f'loss: {total_loss/len(validloader):.4f}, ' + \\\n",
        "        #             f'time: {(time.time() - t):.4f}', end= '\\r' if (step + 1) != len(validloader) else '\\n'\n",
        "        #         )\n",
        "\n",
        "    # print stuff       \n",
        "    print(\n",
        "            f'epoch {epoch}, ' + \\\n",
        "            f'loss: {total_loss/len(trainloader):.4f}, ' + \\\n",
        "            f'time: {(time.time() - t):.4f}, '  + \\\n",
        "            f'dice: {np.mean(dice_epoch)}', end='\\n'\n",
        "        )\n",
        "    return total_loss/len(validloader), np.mean(dice_epoch)"
      ],
      "execution_count": 70,
      "outputs": []
    },
    {
      "cell_type": "markdown",
      "metadata": {
        "papermill": {
          "duration": 0.072013,
          "end_time": "2021-04-17T12:37:25.290767",
          "exception": false,
          "start_time": "2021-04-17T12:37:25.218754",
          "status": "completed"
        },
        "tags": [],
        "id": "Js4SUCbe-0--"
      },
      "source": [
        "## Creating Folds Column"
      ]
    },
    {
      "cell_type": "code",
      "metadata": {
        "execution": {
          "iopub.execute_input": "2021-04-17T12:37:25.452793Z",
          "iopub.status.busy": "2021-04-17T12:37:25.442622Z",
          "iopub.status.idle": "2021-04-17T12:37:25.469354Z",
          "shell.execute_reply": "2021-04-17T12:37:25.468918Z"
        },
        "papermill": {
          "duration": 0.107171,
          "end_time": "2021-04-17T12:37:25.469461",
          "exception": false,
          "start_time": "2021-04-17T12:37:25.362290",
          "status": "completed"
        },
        "tags": [],
        "id": "_NySWKjy-0-_",
        "colab": {
          "base_uri": "https://localhost:8080/",
          "height": 419
        },
        "outputId": "2a10cd38-6af8-413f-dea5-0ad2080fba27"
      },
      "source": [
        "FOLDS = CFG.n_fold\n",
        "gkf = GroupKFold(FOLDS)\n",
        "dir_df['Folds'] = 0\n",
        "for fold, (tr_idx, val_idx) in enumerate(gkf.split(dir_df, groups=dir_df[dir_df.columns[0]].values)):\n",
        "    dir_df.loc[val_idx, 'Folds'] = fold\n",
        "    \n",
        "dir_df"
      ],
      "execution_count": 71,
      "outputs": [
        {
          "output_type": "execute_result",
          "data": {
            "text/html": [
              "<div>\n",
              "<style scoped>\n",
              "    .dataframe tbody tr th:only-of-type {\n",
              "        vertical-align: middle;\n",
              "    }\n",
              "\n",
              "    .dataframe tbody tr th {\n",
              "        vertical-align: top;\n",
              "    }\n",
              "\n",
              "    .dataframe thead th {\n",
              "        text-align: right;\n",
              "    }\n",
              "</style>\n",
              "<table border=\"1\" class=\"dataframe\">\n",
              "  <thead>\n",
              "    <tr style=\"text-align: right;\">\n",
              "      <th></th>\n",
              "      <th>Image_Paths</th>\n",
              "      <th>Folds</th>\n",
              "    </tr>\n",
              "  </thead>\n",
              "  <tbody>\n",
              "    <tr>\n",
              "      <th>0</th>\n",
              "      <td>4ef6695ce_0764.png</td>\n",
              "      <td>1</td>\n",
              "    </tr>\n",
              "    <tr>\n",
              "      <th>1</th>\n",
              "      <td>cb2d976f4_1019.png</td>\n",
              "      <td>1</td>\n",
              "    </tr>\n",
              "    <tr>\n",
              "      <th>2</th>\n",
              "      <td>54f2eec69_0471.png</td>\n",
              "      <td>1</td>\n",
              "    </tr>\n",
              "    <tr>\n",
              "      <th>3</th>\n",
              "      <td>b2dc8411c_0243.png</td>\n",
              "      <td>0</td>\n",
              "    </tr>\n",
              "    <tr>\n",
              "      <th>4</th>\n",
              "      <td>8242609fa_0102.png</td>\n",
              "      <td>3</td>\n",
              "    </tr>\n",
              "    <tr>\n",
              "      <th>...</th>\n",
              "      <td>...</td>\n",
              "      <td>...</td>\n",
              "    </tr>\n",
              "    <tr>\n",
              "      <th>9575</th>\n",
              "      <td>095bf7a1f_1018.png</td>\n",
              "      <td>4</td>\n",
              "    </tr>\n",
              "    <tr>\n",
              "      <th>9576</th>\n",
              "      <td>cb2d976f4_1007.png</td>\n",
              "      <td>2</td>\n",
              "    </tr>\n",
              "    <tr>\n",
              "      <th>9577</th>\n",
              "      <td>095bf7a1f_0687.png</td>\n",
              "      <td>3</td>\n",
              "    </tr>\n",
              "    <tr>\n",
              "      <th>9578</th>\n",
              "      <td>afa5e8098_0877.png</td>\n",
              "      <td>3</td>\n",
              "    </tr>\n",
              "    <tr>\n",
              "      <th>9579</th>\n",
              "      <td>cb2d976f4_1339.png</td>\n",
              "      <td>0</td>\n",
              "    </tr>\n",
              "  </tbody>\n",
              "</table>\n",
              "<p>9580 rows × 2 columns</p>\n",
              "</div>"
            ],
            "text/plain": [
              "             Image_Paths  Folds\n",
              "0     4ef6695ce_0764.png      1\n",
              "1     cb2d976f4_1019.png      1\n",
              "2     54f2eec69_0471.png      1\n",
              "3     b2dc8411c_0243.png      0\n",
              "4     8242609fa_0102.png      3\n",
              "...                  ...    ...\n",
              "9575  095bf7a1f_1018.png      4\n",
              "9576  cb2d976f4_1007.png      2\n",
              "9577  095bf7a1f_0687.png      3\n",
              "9578  afa5e8098_0877.png      3\n",
              "9579  cb2d976f4_1339.png      0\n",
              "\n",
              "[9580 rows x 2 columns]"
            ]
          },
          "metadata": {
            "tags": []
          },
          "execution_count": 71
        }
      ]
    },
    {
      "cell_type": "markdown",
      "metadata": {
        "papermill": {
          "duration": 0.072023,
          "end_time": "2021-04-17T12:37:25.613015",
          "exception": false,
          "start_time": "2021-04-17T12:37:25.540992",
          "status": "completed"
        },
        "tags": [],
        "id": "Mk8y91Fz-0-_"
      },
      "source": [
        "## The Real Training"
      ]
    },
    {
      "cell_type": "code",
      "metadata": {
        "execution": {
          "iopub.execute_input": "2021-04-17T12:37:25.767591Z",
          "iopub.status.busy": "2021-04-17T12:37:25.766767Z",
          "iopub.status.idle": "2021-04-17T12:37:25.769653Z",
          "shell.execute_reply": "2021-04-17T12:37:25.769203Z"
        },
        "papermill": {
          "duration": 0.084067,
          "end_time": "2021-04-17T12:37:25.769747",
          "exception": false,
          "start_time": "2021-04-17T12:37:25.685680",
          "status": "completed"
        },
        "tags": [],
        "id": "O-DHIOI0-0-_"
      },
      "source": [
        "# def prepare_train_valid_dataloader(df, fold):\n",
        "#     train_ids = df[~df.Folds.isin(fold)]\n",
        "#     val_ids = df[df.Folds.isin(fold)]\n",
        "    \n",
        "#     train_ds = HuBMAPDataset(main_dir, train_ids, train=True, transform=get_transform('base'))\n",
        "#     val_ds = HuBMAPDataset(main_dir, val_ids, train=True, transform=get_transform('valid'))\n",
        "    \n",
        "#     train_loader = DataLoader(train_ds, batch_size=CFG.batch_size, pin_memory=True, shuffle=True, num_workers=CFG.num_workers)\n",
        "#     val_loader = DataLoader(val_ds, batch_size=CFG.batch_size, pin_memory=True, shuffle=False, num_workers=CFG.num_workers)\n",
        "    \n",
        "#     return train_loader, val_loader\n",
        "\n",
        "\n",
        "\n",
        "def prepare_train_valid_dataloader(df, fold):\n",
        "    train_ids = df.loc[~df.Folds.isin(fold), \"Image_Paths\"].values\n",
        "    val_ids = df.loc[df.Folds.isin(fold), \"Image_Paths\"].values\n",
        "\n",
        "    train_ds = HuBMAPDataset(train_ids, \"train\")\n",
        "    val_ds = HuBMAPDataset(val_ids, \"val\")\n",
        "\n",
        "    train_loader = DataLoader(train_ds, batch_size=CFG.batch_size, pin_memory=True, shuffle=True, num_workers=CFG.num_workers)\n",
        "    val_loader = DataLoader(val_ds, batch_size=CFG.batch_size, pin_memory=True, shuffle=False, num_workers=CFG.num_workers)\n",
        "\n",
        "    return train_loader, val_loader"
      ],
      "execution_count": 72,
      "outputs": []
    },
    {
      "cell_type": "code",
      "metadata": {
        "execution": {
          "iopub.execute_input": "2021-04-17T12:37:26.514715Z",
          "iopub.status.busy": "2021-04-17T12:37:26.514032Z",
          "iopub.status.idle": "2021-04-17T12:37:32.221267Z",
          "shell.execute_reply": "2021-04-17T12:37:32.220742Z"
        },
        "papermill": {
          "duration": 6.380026,
          "end_time": "2021-04-17T12:37:32.221421",
          "exception": false,
          "start_time": "2021-04-17T12:37:25.841395",
          "status": "completed"
        },
        "tags": [],
        "id": "bTtvfiHt-0-_"
      },
      "source": [
        "device = torch.device('cuda' if torch.cuda.is_available() else 'cpu')\n",
        "\n",
        "model = ViTHuBMAP().to(device)\n",
        "optimizer = Adam(model.parameters(), lr=CFG.lr, weight_decay=CFG.weight_decay, amsgrad=False)\n",
        "\n",
        "# scheduler setting\n",
        "scheduler = torch.optim.lr_scheduler.StepLR(optimizer, gamma=0.1, step_size=1)\n",
        "# if CFG.scheduler == 'CosineAnnealingWarmRestarts':\n",
        "#     scheduler = CosineAnnealingWarmRestarts(optimizer, T_0=CFG.T_0, T_mult=1, eta_min=CFG.min_lr, last_epoch=-1)\n",
        "# elif CFG.scheduler == 'ReduceLROnPlateau':\n",
        "#     scheduler = ReduceLROnPlateauReduceLROnPlateau(optimizer, mode='min', factor=CFG.factor, patience=CFG.patience, verbose=True, eps=CFG.eps)\n",
        "# elif CFG.scheduler == 'CosineAnnealingLR':\n",
        "#     scheduler = CosineAnnealingLR(optimizer, T_max=CFG.T_max, eta_min=CFG.min_lr, last_epoch=-1)"
      ],
      "execution_count": 73,
      "outputs": []
    },
    {
      "cell_type": "code",
      "metadata": {
        "id": "ZTAeXWqJvbxB",
        "colab": {
          "base_uri": "https://localhost:8080/"
        },
        "outputId": "1cfef707-04ba-4759-cce9-7699a9f0202f"
      },
      "source": [
        "timer(\"starting training\", reset = True);\n",
        "for fold, (tr_idx, val_idx) in enumerate(gkf.split(dir_df, groups=dir_df[dir_df.columns[0]].values)):\n",
        "    timer(f\"{fold} fold loop\")\n",
        "    if fold >= 1: # think this is just doing 1 cross validation ...\n",
        "        break\n",
        "        \n",
        "    trainloader, validloader = prepare_train_valid_dataloader(dir_df, [fold])\n",
        "    \n",
        "    device = torch.device('cuda' if torch.cuda.is_available() else 'cpu')\n",
        "    \n",
        "    model = ViTHuBMAP().to(device)\n",
        "    optimizer = Adam(model.parameters(), lr=CFG.lr, weight_decay=CFG.weight_decay, amsgrad=False)\n",
        "    scheduler = torch.optim.lr_scheduler.StepLR(optimizer, gamma=0.1, step_size=1)\n",
        "    \n",
        "    \n",
        "    for epoch in range(CFG.epoch):\n",
        "        # train\n",
        "        train_loss, train_score = train_one_epoch(epoch, model, device, optimizer, scheduler, trainloader)\n",
        "        train_loss_per_epoch.append(train_loss)\n",
        "        train_score_per_epoch.append(train_score)\n",
        "\n",
        "        # validate\n",
        "        with torch.no_grad():\n",
        "            valid_loss, valid_score = valid_one_epoch(epoch, model, device, optimizer, scheduler, validloader)\n",
        "            valid_loss_per_epoch.append(valid_loss)\n",
        "            valid_score_per_epoch.append(valid_score)\n",
        "        \n",
        "    fold_dict[fold] = (train_loss_per_epoch, valid_loss_per_epoch, train_score_per_epoch, valid_score_per_epoch)\n",
        "\n",
        "    train_loss_per_epoch = []\n",
        "    train_score_per_epoch = []\n",
        "    valid_loss_per_epoch = []\n",
        "    valid_score_per_epoch = []\n",
        "    \n",
        "    # save state per fold\n",
        "    torch.save(model.state_dict(), f'FOLD-{fold}-model.pth')\n",
        "\n",
        "    timer(f\"{fold} done fold\")"
      ],
      "execution_count": 74,
      "outputs": [
        {
          "output_type": "stream",
          "text": [
            "starting training | 0 seconds\n",
            "0 fold loop | 0.03366208076477051 seconds\n"
          ],
          "name": "stdout"
        },
        {
          "output_type": "stream",
          "text": [
            "/usr/local/lib/python3.7/dist-packages/torch/nn/functional.py:1709: UserWarning: nn.functional.sigmoid is deprecated. Use torch.sigmoid instead.\n",
            "  warnings.warn(\"nn.functional.sigmoid is deprecated. Use torch.sigmoid instead.\")\n"
          ],
          "name": "stderr"
        },
        {
          "output_type": "stream",
          "text": [
            "epoch 0, loss: 1.1128, time: 259.7856, dice: 0.38694177690243525\n",
            "epoch 0, loss: 0.2429, time: 24.0231, dice: 0.35664160770053666\n",
            "epoch 1, loss: 0.6534, time: 260.5013, dice: 0.5402831711528329\n",
            "epoch 1, loss: 0.1315, time: 24.1089, dice: 0.6156778008987506\n",
            "epoch 2, loss: 0.5274, time: 262.9041, dice: 0.6019102820974929\n",
            "epoch 2, loss: 0.1312, time: 24.1313, dice: 0.5968699588129918\n",
            "epoch 3, loss: 0.4857, time: 262.5863, dice: 0.6256006540641158\n",
            "epoch 3, loss: 0.1185, time: 24.0003, dice: 0.6403892715771993\n",
            "epoch 4, loss: 0.4517, time: 261.9234, dice: 0.6505310000746758\n",
            "epoch 4, loss: 0.0996, time: 23.9387, dice: 0.6922837257715098\n",
            "epoch 5, loss: 0.4205, time: 260.1748, dice: 0.6747255923852542\n",
            "epoch 5, loss: 0.2430, time: 23.9914, dice: 0.3435347641197344\n",
            "epoch 6, loss: 0.4046, time: 260.3122, dice: 0.6857719347386494\n",
            "epoch 6, loss: 0.0881, time: 23.9356, dice: 0.7301266599446535\n",
            "epoch 7, loss: 0.3936, time: 260.2022, dice: 0.6928588542348407\n",
            "epoch 7, loss: 0.0870, time: 24.0105, dice: 0.7353352891902128\n",
            "epoch 8, loss: 0.3864, time: 260.4138, dice: 0.7010032155556849\n",
            "epoch 8, loss: 0.0792, time: 23.9441, dice: 0.7591977529227734\n",
            "epoch 9, loss: 0.3423, time: 261.8130, dice: 0.7353896882583357\n",
            "epoch 9, loss: 0.0740, time: 23.9811, dice: 0.7734254896640778\n",
            "epoch 10, loss: 0.3332, time: 259.9009, dice: 0.7420237712359885\n",
            "epoch 10, loss: 0.0702, time: 23.9505, dice: 0.785394745071729\n",
            "epoch 11, loss: 0.2973, time: 259.4905, dice: 0.7711174231419234\n",
            "epoch 11, loss: 0.0783, time: 24.0290, dice: 0.7621134062608083\n",
            "epoch 12, loss: 0.2877, time: 259.9858, dice: 0.7773242688004866\n",
            "epoch 12, loss: 0.0622, time: 23.9336, dice: 0.807428423811992\n",
            "epoch 13, loss: 0.2702, time: 261.0584, dice: 0.7924061516700514\n",
            "epoch 13, loss: 0.0536, time: 24.0105, dice: 0.8370743614931901\n",
            "epoch 14, loss: 0.2808, time: 261.1830, dice: 0.7842658250777358\n",
            "epoch 14, loss: 0.1077, time: 24.0342, dice: 0.6741103661557039\n",
            "epoch 15, loss: 0.2537, time: 261.3055, dice: 0.804388738375487\n",
            "epoch 15, loss: 0.0477, time: 24.0877, dice: 0.8556872263550759\n",
            "epoch 16, loss: 0.2383, time: 261.5590, dice: 0.8169976805097698\n",
            "epoch 16, loss: 0.0474, time: 23.9424, dice: 0.8549911715090275\n",
            "epoch 17, loss: 0.2346, time: 260.6462, dice: 0.8193926136782271\n",
            "epoch 17, loss: 0.0458, time: 24.0056, dice: 0.8610753444333871\n",
            "epoch 18, loss: 0.2294, time: 261.3585, dice: 0.8223985429225679\n",
            "epoch 18, loss: 0.0454, time: 24.0208, dice: 0.860620469848315\n",
            "epoch 19, loss: 0.2114, time: 260.6600, dice: 0.8384922621207844\n",
            "epoch 19, loss: 0.0418, time: 24.0432, dice: 0.8726731613278389\n",
            "epoch 20, loss: 0.2105, time: 260.6659, dice: 0.8384268056126876\n",
            "epoch 20, loss: 0.0433, time: 24.0276, dice: 0.8702231285472711\n",
            "epoch 21, loss: 0.2088, time: 260.6256, dice: 0.8390920476867452\n",
            "epoch 21, loss: 0.0399, time: 24.0110, dice: 0.8779849586387475\n",
            "epoch 22, loss: 0.2026, time: 261.2042, dice: 0.8439846265913311\n",
            "epoch 22, loss: 0.0398, time: 23.9631, dice: 0.8790492390592893\n",
            "epoch 23, loss: 0.2183, time: 261.2869, dice: 0.8324048150260818\n",
            "epoch 23, loss: 0.0567, time: 24.0339, dice: 0.8244170777499769\n",
            "epoch 24, loss: 0.1944, time: 260.3276, dice: 0.851460483508473\n",
            "epoch 24, loss: 0.0396, time: 23.9699, dice: 0.8802790828049183\n",
            "epoch 25, loss: 0.1936, time: 261.1581, dice: 0.8507956431280769\n",
            "epoch 25, loss: 0.0392, time: 24.0471, dice: 0.8811840452253819\n",
            "epoch 26, loss: 0.1983, time: 260.9174, dice: 0.8472031702079588\n",
            "epoch 26, loss: 0.0476, time: 24.0229, dice: 0.8589689716696739\n",
            "epoch 27, loss: 0.1841, time: 260.6614, dice: 0.8596954913751567\n",
            "epoch 27, loss: 0.0374, time: 24.0077, dice: 0.8850256112714608\n",
            "epoch 28, loss: 0.2068, time: 260.9869, dice: 0.8408817006800237\n",
            "epoch 28, loss: 0.0558, time: 23.9608, dice: 0.8299758595724901\n",
            "epoch 29, loss: 0.2089, time: 261.2637, dice: 0.8404851455964724\n",
            "epoch 29, loss: 0.0402, time: 23.9971, dice: 0.8761763306955497\n",
            "epoch 30, loss: 0.1844, time: 260.6315, dice: 0.8586340563406775\n",
            "epoch 30, loss: 0.0415, time: 23.9589, dice: 0.8741003478566806\n",
            "epoch 31, loss: 0.1735, time: 260.6231, dice: 0.8671448380066109\n",
            "epoch 31, loss: 0.0380, time: 23.9724, dice: 0.8845244290928046\n",
            "epoch 32, loss: 0.1734, time: 260.4055, dice: 0.8673053314143282\n",
            "epoch 32, loss: 0.0372, time: 23.9960, dice: 0.8864589917163054\n",
            "epoch 33, loss: 0.1770, time: 260.6243, dice: 0.8637776836317387\n",
            "epoch 33, loss: 0.0373, time: 23.9987, dice: 0.8846679657697678\n",
            "epoch 34, loss: 0.1764, time: 261.4611, dice: 0.8641433062426559\n",
            "epoch 34, loss: 0.0370, time: 23.9790, dice: 0.8866676241159439\n",
            "0 done fold | 9972.268800973892 seconds\n",
            "1 fold loop | 9972.270132541656 seconds\n"
          ],
          "name": "stdout"
        }
      ]
    },
    {
      "cell_type": "code",
      "metadata": {
        "execution": {
          "iopub.execute_input": "2021-04-17T12:37:32.386155Z",
          "iopub.status.busy": "2021-04-17T12:37:32.385336Z",
          "iopub.status.idle": "2021-04-17T13:17:47.323675Z",
          "shell.execute_reply": "2021-04-17T13:17:47.322622Z"
        },
        "papermill": {
          "duration": 2415.030101,
          "end_time": "2021-04-17T13:17:47.323797",
          "exception": false,
          "start_time": "2021-04-17T12:37:32.293696",
          "status": "completed"
        },
        "tags": [],
        "id": "TbT_tqpa-0_A"
      },
      "source": [
        "# print(f'Training Loop [{CFG.trn_fold}]...')\n",
        "# for fold, (tr_idx, val_idx) in enumerate(gkf.split(dir_df, groups=dir_df[dir_df.columns[0]].values)):\n",
        "#     # if fold != CFG.trn_fold: # Train only one fold\n",
        "#     #     continue \n",
        "\n",
        "#     trainloader, validloader = prepare_train_valid_dataloader(dir_df, [fold])\n",
        "\n",
        "#     for epoch in range(CFG.epoch):\n",
        "#         train_one_epoch(epoch, model, device, optimizer, scheduler, trainloader)\n",
        "#         with torch.no_grad():\n",
        "#             valid_one_epoch(epoch, model, device, optimizer, scheduler, validloader)\n",
        "        \n",
        "#         #torch.save(model.state_dict(),f'FOLD-{fold}-EPOCH-{epoch}-model.pth')\n",
        "        \n",
        "#     torch.save(model.state_dict(),f'FOLD-{fold}-model.pth')\n",
        "    \n",
        "#     #del model, optimizer, scheduler, trainloader, validloader"
      ],
      "execution_count": 75,
      "outputs": []
    },
    {
      "cell_type": "code",
      "metadata": {
        "id": "arHPUR8lxS4h"
      },
      "source": [
        "import matplotlib.pyplot as plt"
      ],
      "execution_count": 76,
      "outputs": []
    },
    {
      "cell_type": "code",
      "metadata": {
        "id": "X5HxW0pAxTTh",
        "colab": {
          "base_uri": "https://localhost:8080/",
          "height": 295
        },
        "outputId": "70131a6e-954d-4594-ba9d-77010ed2e3c7"
      },
      "source": [
        "# loss score for epochs only\n",
        "\n",
        "for i in range(1):\n",
        "    plt.plot(fold_dict[i][0], label='train', color = 'orange')\n",
        "    plt.plot(fold_dict[i][1], label='valid', color='blue')\n",
        "\n",
        "    plt.xlabel('Epoch')\n",
        "    plt.ylabel('DiceBCE Loss')\n",
        "\n",
        "    plt.title(\"DiceBCE Loss vs Epoch for Validation Set {0}\".format(i))\n",
        "    plt.legend()\n",
        "    plt.show()"
      ],
      "execution_count": 77,
      "outputs": [
        {
          "output_type": "display_data",
          "data": {
            "image/png": "[encoded data removed]",
            "text/plain": [
              "<Figure size 432x288 with 1 Axes>"
            ]
          },
          "metadata": {
            "tags": [],
            "needs_background": "light"
          }
        }
      ]
    },
    {
      "cell_type": "code",
      "metadata": {
        "id": "AmOtOqUcxUol",
        "colab": {
          "base_uri": "https://localhost:8080/",
          "height": 295
        },
        "outputId": "e4a5f688-df7e-4b6f-dffe-679f8ceb2a09"
      },
      "source": [
        "# dice score for epochs only\n",
        "\n",
        "for i in range(1):\n",
        "    plt.plot(fold_dict[i][2], label='train', color = 'orange')\n",
        "    plt.plot(fold_dict[i][3], label='valid', color='blue')\n",
        "\n",
        "    plt.xlabel('Epoch')\n",
        "    plt.ylabel('Average Dice Score')\n",
        "\n",
        "    plt.title(\"Dice Score vs Epoch for Validation Set {0}\".format(i))\n",
        "    plt.legend()\n",
        "    plt.show()"
      ],
      "execution_count": 78,
      "outputs": [
        {
          "output_type": "display_data",
          "data": {
            "image/png": "[encoded data removed]",
            "text/plain": [
              "<Figure size 432x288 with 1 Axes>"
            ]
          },
          "metadata": {
            "tags": [],
            "needs_background": "light"
          }
        }
      ]
    },
    {
      "cell_type": "markdown",
      "metadata": {
        "papermill": {
          "duration": 0.402696,
          "end_time": "2021-04-17T13:17:48.149903",
          "exception": false,
          "start_time": "2021-04-17T13:17:47.747207",
          "status": "completed"
        },
        "tags": [],
        "id": "Len_k-4I-0_A"
      },
      "source": [
        "## Plot the results "
      ]
    },
    {
      "cell_type": "code",
      "metadata": {
        "execution": {
          "iopub.execute_input": "2021-04-17T13:17:48.949313Z",
          "iopub.status.busy": "2021-04-17T13:17:48.947765Z",
          "iopub.status.idle": "2021-04-17T13:17:53.482632Z",
          "shell.execute_reply": "2021-04-17T13:17:53.482097Z"
        },
        "papermill": {
          "duration": 4.937575,
          "end_time": "2021-04-17T13:17:53.482739",
          "exception": false,
          "start_time": "2021-04-17T13:17:48.545164",
          "status": "completed"
        },
        "tags": [],
        "id": "jjgEVi9_-0_B"
      },
      "source": [
        "# trainloader, validloader = prepare_train_valid_dataloader(dir_df, [4])"
      ],
      "execution_count": 79,
      "outputs": []
    },
    {
      "cell_type": "code",
      "metadata": {
        "execution": {
          "iopub.execute_input": "2021-04-17T13:17:54.299709Z",
          "iopub.status.busy": "2021-04-17T13:17:54.299027Z",
          "iopub.status.idle": "2021-04-17T13:17:54.302918Z",
          "shell.execute_reply": "2021-04-17T13:17:54.302478Z"
        },
        "papermill": {
          "duration": 0.42258,
          "end_time": "2021-04-17T13:17:54.303005",
          "exception": false,
          "start_time": "2021-04-17T13:17:53.880425",
          "status": "completed"
        },
        "tags": [],
        "id": "J70k9wuo-0_B"
      },
      "source": [
        "# def plot_result(validloader, n_sample=4):\n",
        "#     img, mask = next(iter(validloader))\n",
        "#     model.load_state_dict(torch.load(f'./FOLD-{CFG.trn_fold}-model.pth'))\n",
        "#     pred_mask = model(img.to(device)).squeeze(1).cpu().detach()\n",
        "    \n",
        "#     N = n_sample // 2\n",
        "#     assert (N < CFG.batch_size)\n",
        "#     plt.figure(figsize=(15, 20))\n",
        "#     for i in range(n_sample):\n",
        "#         plt.subplot(N, 4, 2*i+1)\n",
        "#         plt.imshow(np.transpose(img[i], (1,2,0)))\n",
        "#         plt.axis('off')\n",
        "        \n",
        "#         plt.subplot(N, 4, 2*i+2)\n",
        "#         plt.imshow(pred_mask[i])\n",
        "#         plt.axis('off')"
      ],
      "execution_count": 80,
      "outputs": []
    },
    {
      "cell_type": "code",
      "metadata": {
        "execution": {
          "iopub.execute_input": "2021-04-17T13:17:55.119776Z",
          "iopub.status.busy": "2021-04-17T13:17:55.113767Z",
          "iopub.status.idle": "2021-04-17T13:17:56.429481Z",
          "shell.execute_reply": "2021-04-17T13:17:56.429914Z"
        },
        "papermill": {
          "duration": 1.727533,
          "end_time": "2021-04-17T13:17:56.430036",
          "exception": false,
          "start_time": "2021-04-17T13:17:54.702503",
          "status": "completed"
        },
        "tags": [],
        "id": "Dcbxlrsz-0_B"
      },
      "source": [
        "# with torch.no_grad():\n",
        "#     plot_result(validloader)"
      ],
      "execution_count": 81,
      "outputs": []
    },
    {
      "cell_type": "markdown",
      "metadata": {
        "papermill": {
          "duration": 0.414124,
          "end_time": "2021-04-17T13:17:57.263507",
          "exception": false,
          "start_time": "2021-04-17T13:17:56.849383",
          "status": "completed"
        },
        "tags": [],
        "id": "q7FUQzQc-0_B"
      },
      "source": [
        "## What you should do to improve the results:\n",
        "- Use data normalization\n",
        "- Use anthor implementation for TransUnet (Applied in V16)\n",
        "- Reduce the probability of the augmentations\n",
        "- Play with visionTrans hyperparameters"
      ]
    },
    {
      "cell_type": "markdown",
      "metadata": {
        "papermill": {
          "duration": 0.424357,
          "end_time": "2021-04-17T13:17:58.096163",
          "exception": false,
          "start_time": "2021-04-17T13:17:57.671806",
          "status": "completed"
        },
        "tags": [],
        "id": "kXZl9FVL-0_C"
      },
      "source": [
        "<CENTER><h3><span style='color:red'> UPVOTE </span> If you liked</h3>\n",
        "<h4>Code still under modifications, Stay tuned</h4></CENTER>"
      ]
    },
    {
      "cell_type": "code",
      "metadata": {
        "papermill": {
          "duration": 0.410848,
          "end_time": "2021-04-17T13:17:58.917022",
          "exception": false,
          "start_time": "2021-04-17T13:17:58.506174",
          "status": "completed"
        },
        "tags": [],
        "id": "GJhpuB3X-0_C"
      },
      "source": [
        ""
      ],
      "execution_count": 81,
      "outputs": []
    }
  ]
}